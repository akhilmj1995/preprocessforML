{
  "nbformat": 4,
  "nbformat_minor": 0,
  "metadata": {
    "colab": {
      "provenance": [],
      "authorship_tag": "ABX9TyPvxK4FR+JUkWwcWNKSEIMm",
      "include_colab_link": true
    },
    "kernelspec": {
      "name": "python3",
      "display_name": "Python 3"
    },
    "language_info": {
      "name": "python"
    }
  },
  "cells": [
    {
      "cell_type": "markdown",
      "metadata": {
        "id": "view-in-github",
        "colab_type": "text"
      },
      "source": [
        "<a href=\"https://colab.research.google.com/github/akhilmj1995/preprocessforML/blob/main/Preprocessing.ipynb\" target=\"_parent\"><img src=\"https://colab.research.google.com/assets/colab-badge.svg\" alt=\"Open In Colab\"/></a>"
      ]
    },
    {
      "cell_type": "code",
      "execution_count": 13,
      "metadata": {
        "id": "AX69qkVW9Ix0"
      },
      "outputs": [],
      "source": [
        "import pandas as pd\n",
        "import numpy as np\n",
        "import re\n",
        "from sklearn.feature_extraction.text import TfidfVectorizer"
      ]
    },
    {
      "cell_type": "code",
      "source": [
        "ufo=pd.read_csv('https://assets.datacamp.com/production/repositories/1816/datasets/a5ebfe5d2ed194f2668867603b563963af4769e9/ufo_sightings_large.csv')"
      ],
      "metadata": {
        "id": "qUCgQWlF9T5e"
      },
      "execution_count": 2,
      "outputs": []
    },
    {
      "cell_type": "code",
      "source": [
        "ufo.info()"
      ],
      "metadata": {
        "colab": {
          "base_uri": "https://localhost:8080/"
        },
        "id": "2aHqOHUU92_Q",
        "outputId": "53fdea62-bb95-4482-f1b4-b5b557a535a3"
      },
      "execution_count": 3,
      "outputs": [
        {
          "output_type": "stream",
          "name": "stdout",
          "text": [
            "<class 'pandas.core.frame.DataFrame'>\n",
            "RangeIndex: 4935 entries, 0 to 4934\n",
            "Data columns (total 11 columns):\n",
            " #   Column          Non-Null Count  Dtype  \n",
            "---  ------          --------------  -----  \n",
            " 0   date            4935 non-null   object \n",
            " 1   city            4926 non-null   object \n",
            " 2   state           4516 non-null   object \n",
            " 3   country         4255 non-null   object \n",
            " 4   type            4776 non-null   object \n",
            " 5   seconds         4935 non-null   float64\n",
            " 6   length_of_time  4792 non-null   object \n",
            " 7   desc            4932 non-null   object \n",
            " 8   recorded        4935 non-null   object \n",
            " 9   lat             4935 non-null   object \n",
            " 10  long            4935 non-null   float64\n",
            "dtypes: float64(2), object(9)\n",
            "memory usage: 424.2+ KB\n"
          ]
        }
      ]
    },
    {
      "cell_type": "code",
      "source": [
        "print(ufo.info())\n",
        "\n",
        "# Changing the type of seconds to float\n",
        "ufo[\"seconds\"] = ufo[\"seconds\"].astype(float)\n",
        "\n",
        "# Changing the date column to type datetime\n",
        "ufo[\"date\"] = pd.to_datetime(ufo[\"date\"])\n",
        "\n",
        "# Checking the column types\n",
        "print(ufo.info())"
      ],
      "metadata": {
        "colab": {
          "base_uri": "https://localhost:8080/"
        },
        "id": "kgGjPXZ0HMdK",
        "outputId": "3ffbae3a-3b59-4112-ed72-14f57548772b"
      },
      "execution_count": 4,
      "outputs": [
        {
          "output_type": "stream",
          "name": "stdout",
          "text": [
            "<class 'pandas.core.frame.DataFrame'>\n",
            "RangeIndex: 4935 entries, 0 to 4934\n",
            "Data columns (total 11 columns):\n",
            " #   Column          Non-Null Count  Dtype  \n",
            "---  ------          --------------  -----  \n",
            " 0   date            4935 non-null   object \n",
            " 1   city            4926 non-null   object \n",
            " 2   state           4516 non-null   object \n",
            " 3   country         4255 non-null   object \n",
            " 4   type            4776 non-null   object \n",
            " 5   seconds         4935 non-null   float64\n",
            " 6   length_of_time  4792 non-null   object \n",
            " 7   desc            4932 non-null   object \n",
            " 8   recorded        4935 non-null   object \n",
            " 9   lat             4935 non-null   object \n",
            " 10  long            4935 non-null   float64\n",
            "dtypes: float64(2), object(9)\n",
            "memory usage: 424.2+ KB\n",
            "None\n",
            "<class 'pandas.core.frame.DataFrame'>\n",
            "RangeIndex: 4935 entries, 0 to 4934\n",
            "Data columns (total 11 columns):\n",
            " #   Column          Non-Null Count  Dtype         \n",
            "---  ------          --------------  -----         \n",
            " 0   date            4935 non-null   datetime64[ns]\n",
            " 1   city            4926 non-null   object        \n",
            " 2   state           4516 non-null   object        \n",
            " 3   country         4255 non-null   object        \n",
            " 4   type            4776 non-null   object        \n",
            " 5   seconds         4935 non-null   float64       \n",
            " 6   length_of_time  4792 non-null   object        \n",
            " 7   desc            4932 non-null   object        \n",
            " 8   recorded        4935 non-null   object        \n",
            " 9   lat             4935 non-null   object        \n",
            " 10  long            4935 non-null   float64       \n",
            "dtypes: datetime64[ns](1), float64(2), object(8)\n",
            "memory usage: 424.2+ KB\n",
            "None\n"
          ]
        }
      ]
    },
    {
      "cell_type": "code",
      "source": [
        "# Counting the missing values in the length_of_time, state, and type columns, in that order\n",
        "print(ufo[['length_of_time','state', 'type']].isna().sum())\n",
        "\n",
        "# Droppping rows where length_of_time, state, or type are missing\n",
        "ufo_no_missing = ufo.dropna(subset=['length_of_time','state', 'type'])\n",
        "\n",
        "# Printing out the shape of the new dataset\n",
        "print(ufo_no_missing.shape)"
      ],
      "metadata": {
        "colab": {
          "base_uri": "https://localhost:8080/"
        },
        "id": "gYe28I1FHQzY",
        "outputId": "6d6bd750-83a7-469c-b9d1-6ff002925838"
      },
      "execution_count": 5,
      "outputs": [
        {
          "output_type": "stream",
          "name": "stdout",
          "text": [
            "length_of_time    143\n",
            "state             419\n",
            "type              159\n",
            "dtype: int64\n",
            "(4283, 11)\n"
          ]
        }
      ]
    },
    {
      "cell_type": "code",
      "source": [
        "def return_minutes(time_string):\n",
        "\n",
        "    #Handling non-string values\n",
        "    if not isinstance(time_string, str):\n",
        "        return None\n",
        "    # Searching for numbers in time_string\n",
        "    num = re.search(\"\\d+\", time_string)\n",
        "    if num is not None:\n",
        "        return int(num.group(0))\n",
        "\n",
        "# Applying the extraction to the length_of_time column\n",
        "ufo[\"minutes\"] = ufo[\"length_of_time\"].apply(return_minutes)\n",
        "\n",
        "# Taking a look at the head of both of the columns\n",
        "print(ufo[[\"minutes\",'length_of_time']].head())"
      ],
      "metadata": {
        "colab": {
          "base_uri": "https://localhost:8080/"
        },
        "id": "YrFFoInbI6jD",
        "outputId": "baf4aef7-afe6-4f8e-db01-0274a1a7fe0f"
      },
      "execution_count": 10,
      "outputs": [
        {
          "output_type": "stream",
          "name": "stdout",
          "text": [
            "   minutes   length_of_time\n",
            "0      2.0          2 weeks\n",
            "1     30.0           30sec.\n",
            "2      NaN              NaN\n",
            "3      5.0  about 5 minutes\n",
            "4      2.0                2\n"
          ]
        }
      ]
    },
    {
      "cell_type": "code",
      "source": [
        "#  encoding us values as 1 and others as 0\n",
        "ufo[\"country_enc\"] = ufo[\"country\"].apply(lambda a : 1 if a==\"us\" else 0)\n",
        "\n",
        "# Printing the number of unique type values\n",
        "print(len(ufo['type'].unique()))\n",
        "\n",
        "# Creating a one-hot encoded set of the type values\n",
        "type_set = pd.get_dummies(ufo['type'])\n",
        "\n",
        "# Concatenating this set back to the ufo DataFrame\n",
        "ufo = pd.concat([ufo, type_set], axis=1)"
      ],
      "metadata": {
        "colab": {
          "base_uri": "https://localhost:8080/"
        },
        "id": "ZGQszLBqa7F8",
        "outputId": "ae1c0e5d-68e4-4373-845a-fcca212127b1"
      },
      "execution_count": 11,
      "outputs": [
        {
          "output_type": "stream",
          "name": "stdout",
          "text": [
            "22\n"
          ]
        }
      ]
    },
    {
      "cell_type": "code",
      "source": [
        "# Looking at the first 5 rows of the date column\n",
        "print(ufo['date'].head())\n",
        "\n",
        "# Extract the month from the date column\n",
        "ufo[\"month\"] = ufo[\"date\"].dt.month\n",
        "\n",
        "# Extract the year from the date column\n",
        "ufo[\"year\"] = ufo[\"date\"].dt.year\n",
        "\n",
        "# Take a look at the head of all three columns\n",
        "print(ufo[['date','month','year']].head())"
      ],
      "metadata": {
        "colab": {
          "base_uri": "https://localhost:8080/"
        },
        "id": "iRzI6EftrsDT",
        "outputId": "21a2f322-67e9-43d5-c827-9e5b324ace38"
      },
      "execution_count": 12,
      "outputs": [
        {
          "output_type": "stream",
          "name": "stdout",
          "text": [
            "0   2011-11-03 19:21:00\n",
            "1   2004-10-03 19:05:00\n",
            "2   2009-09-25 21:00:00\n",
            "3   2002-11-21 05:45:00\n",
            "4   2010-08-19 12:55:00\n",
            "Name: date, dtype: datetime64[ns]\n",
            "                 date  month  year\n",
            "0 2011-11-03 19:21:00     11  2011\n",
            "1 2004-10-03 19:05:00     10  2004\n",
            "2 2009-09-25 21:00:00      9  2009\n",
            "3 2002-11-21 05:45:00     11  2002\n",
            "4 2010-08-19 12:55:00      8  2010\n"
          ]
        }
      ]
    },
    {
      "cell_type": "code",
      "source": [
        "# Take a look at the head of the desc field\n",
        "print(ufo['desc'].head())\n",
        "\n",
        "# Fill missing values in 'desc' with empty strings\n",
        "ufo['desc'] = ufo['desc'].fillna('')\n",
        "\n",
        "# Instantiate the tfidf vectorizer object\n",
        "vec = TfidfVectorizer()\n",
        "\n",
        "# Fit and transform desc using vec\n",
        "desc_tfidf = vec.fit_transform(ufo[\"desc\"])\n",
        "\n",
        "# Look at the number of columns and rows\n",
        "print(desc_tfidf.shape)"
      ],
      "metadata": {
        "colab": {
          "base_uri": "https://localhost:8080/"
        },
        "id": "fQsdduoXrLUB",
        "outputId": "1424b289-da02-476f-fe06-8dfb49778cd3"
      },
      "execution_count": 16,
      "outputs": [
        {
          "output_type": "stream",
          "name": "stdout",
          "text": [
            "0    Red blinking objects similar to airplanes or s...\n",
            "1                 Many fighter jets flying towards UFO\n",
            "2    Green&#44 red&#44 and blue pulses of light tha...\n",
            "3    It was a large&#44 triangular shaped flying ob...\n",
            "4       A white spinning disc in the shape of an oval.\n",
            "Name: desc, dtype: object\n",
            "(4935, 6433)\n"
          ]
        }
      ]
    },
    {
      "cell_type": "code",
      "source": [
        "# Add in the rest of the arguments\n",
        "def return_weights(vocab, original_vocab, vector, vector_index, top_n):\n",
        "    zipped = dict(zip(vector[vector_index].indices, vector[vector_index].data))\n",
        "\n",
        "    # Transform that zipped dict into a series\n",
        "    zipped_series = pd.Series({vocab[i]:zipped[i] for i in vector[vector_index].indices})\n",
        "\n",
        "    # Sort the series to pull out the top n weighted words\n",
        "    zipped_index = zipped_series.sort_values(ascending=False)[:top_n].index\n",
        "    return [original_vocab[i] for i in zipped_index]\n",
        "\n",
        "\n",
        "def words_to_filter(vocab, original_vocab, vector, top_n):\n",
        "    filter_list = []\n",
        "    for i in range(0, vector.shape[0]):\n",
        "\n",
        "        # Call the return_weights function and extend filter_list\n",
        "        filtered = return_weights(vocab, original_vocab, vector, i, top_n)\n",
        "        filter_list.extend(filtered)\n",
        "\n",
        "    # Return the list in a set, so we don't get duplicate word indices\n",
        "    return set(filter_list)"
      ],
      "metadata": {
        "id": "RSB7lQ7Y0BOq"
      },
      "execution_count": 18,
      "outputs": []
    },
    {
      "cell_type": "code",
      "source": [
        "# Make a list of features to drop\n",
        "to_drop = [\"city\", \"country\", \"date\", \"desc\", \"lat\", \"length_of_time\", \"long\", \"minutes\", \"recorded\", \"seconds\", \"state\"]\n",
        "\n",
        "# Drop those features\n",
        "ufo_dropped = ufo.drop(to_drop, axis=1)\n",
        "\n",
        "# Let's also filter some words out of the text vector we created\n",
        "filtered_words = words_to_filter(vocab, vec.vocabulary_, desc_tfidf, 4)"
      ],
      "metadata": {
        "colab": {
          "base_uri": "https://localhost:8080/",
          "height": 176
        },
        "id": "1ByrEapAzOsJ",
        "outputId": "ba7f66ed-299d-42dd-a271-0ab15172acb7"
      },
      "execution_count": 19,
      "outputs": [
        {
          "output_type": "error",
          "ename": "NameError",
          "evalue": "name 'vocab' is not defined",
          "traceback": [
            "\u001b[0;31m---------------------------------------------------------------------------\u001b[0m",
            "\u001b[0;31mNameError\u001b[0m                                 Traceback (most recent call last)",
            "\u001b[0;32m<ipython-input-19-96fcd80d69e9>\u001b[0m in \u001b[0;36m<cell line: 8>\u001b[0;34m()\u001b[0m\n\u001b[1;32m      6\u001b[0m \u001b[0;34m\u001b[0m\u001b[0m\n\u001b[1;32m      7\u001b[0m \u001b[0;31m# Let's also filter some words out of the text vector we created\u001b[0m\u001b[0;34m\u001b[0m\u001b[0;34m\u001b[0m\u001b[0m\n\u001b[0;32m----> 8\u001b[0;31m \u001b[0mfiltered_words\u001b[0m \u001b[0;34m=\u001b[0m \u001b[0mwords_to_filter\u001b[0m\u001b[0;34m(\u001b[0m\u001b[0mvocab\u001b[0m\u001b[0;34m,\u001b[0m \u001b[0mvec\u001b[0m\u001b[0;34m.\u001b[0m\u001b[0mvocabulary_\u001b[0m\u001b[0;34m,\u001b[0m \u001b[0mdesc_tfidf\u001b[0m\u001b[0;34m,\u001b[0m \u001b[0;36m4\u001b[0m\u001b[0;34m)\u001b[0m\u001b[0;34m\u001b[0m\u001b[0;34m\u001b[0m\u001b[0m\n\u001b[0m",
            "\u001b[0;31mNameError\u001b[0m: name 'vocab' is not defined"
          ]
        }
      ]
    }
  ]
}