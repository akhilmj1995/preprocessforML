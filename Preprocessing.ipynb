{
  "nbformat": 4,
  "nbformat_minor": 0,
  "metadata": {
    "colab": {
      "provenance": [],
      "authorship_tag": "ABX9TyNR4nUodQ8P6mkonChjucSt",
      "include_colab_link": true
    },
    "kernelspec": {
      "name": "python3",
      "display_name": "Python 3"
    },
    "language_info": {
      "name": "python"
    }
  },
  "cells": [
    {
      "cell_type": "markdown",
      "metadata": {
        "id": "view-in-github",
        "colab_type": "text"
      },
      "source": [
        "<a href=\"https://colab.research.google.com/github/akhilmj1995/preprocessforML/blob/main/Preprocessing.ipynb\" target=\"_parent\"><img src=\"https://colab.research.google.com/assets/colab-badge.svg\" alt=\"Open In Colab\"/></a>"
      ]
    },
    {
      "cell_type": "code",
      "execution_count": 1,
      "metadata": {
        "id": "AX69qkVW9Ix0"
      },
      "outputs": [],
      "source": [
        "import pandas as pd"
      ]
    },
    {
      "cell_type": "code",
      "source": [
        "ufo=pd.read_csv('https://assets.datacamp.com/production/repositories/1816/datasets/a5ebfe5d2ed194f2668867603b563963af4769e9/ufo_sightings_large.csv')"
      ],
      "metadata": {
        "id": "qUCgQWlF9T5e"
      },
      "execution_count": 2,
      "outputs": []
    },
    {
      "cell_type": "code",
      "source": [
        "ufo.info()"
      ],
      "metadata": {
        "colab": {
          "base_uri": "https://localhost:8080/"
        },
        "id": "2aHqOHUU92_Q",
        "outputId": "53fdea62-bb95-4482-f1b4-b5b557a535a3"
      },
      "execution_count": 3,
      "outputs": [
        {
          "output_type": "stream",
          "name": "stdout",
          "text": [
            "<class 'pandas.core.frame.DataFrame'>\n",
            "RangeIndex: 4935 entries, 0 to 4934\n",
            "Data columns (total 11 columns):\n",
            " #   Column          Non-Null Count  Dtype  \n",
            "---  ------          --------------  -----  \n",
            " 0   date            4935 non-null   object \n",
            " 1   city            4926 non-null   object \n",
            " 2   state           4516 non-null   object \n",
            " 3   country         4255 non-null   object \n",
            " 4   type            4776 non-null   object \n",
            " 5   seconds         4935 non-null   float64\n",
            " 6   length_of_time  4792 non-null   object \n",
            " 7   desc            4932 non-null   object \n",
            " 8   recorded        4935 non-null   object \n",
            " 9   lat             4935 non-null   object \n",
            " 10  long            4935 non-null   float64\n",
            "dtypes: float64(2), object(9)\n",
            "memory usage: 424.2+ KB\n"
          ]
        }
      ]
    },
    {
      "cell_type": "code",
      "source": [
        "print(ufo.info())\n",
        "\n",
        "# Change the type of seconds to float\n",
        "ufo[\"seconds\"] = ufo[\"seconds\"].astype(float)\n",
        "\n",
        "# Change the date column to type datetime\n",
        "ufo[\"date\"] = pd.to_datetime(ufo[\"date\"])\n",
        "\n",
        "# Check the column types\n",
        "print(ufo.info())"
      ],
      "metadata": {
        "colab": {
          "base_uri": "https://localhost:8080/"
        },
        "id": "kgGjPXZ0HMdK",
        "outputId": "3ffbae3a-3b59-4112-ed72-14f57548772b"
      },
      "execution_count": 4,
      "outputs": [
        {
          "output_type": "stream",
          "name": "stdout",
          "text": [
            "<class 'pandas.core.frame.DataFrame'>\n",
            "RangeIndex: 4935 entries, 0 to 4934\n",
            "Data columns (total 11 columns):\n",
            " #   Column          Non-Null Count  Dtype  \n",
            "---  ------          --------------  -----  \n",
            " 0   date            4935 non-null   object \n",
            " 1   city            4926 non-null   object \n",
            " 2   state           4516 non-null   object \n",
            " 3   country         4255 non-null   object \n",
            " 4   type            4776 non-null   object \n",
            " 5   seconds         4935 non-null   float64\n",
            " 6   length_of_time  4792 non-null   object \n",
            " 7   desc            4932 non-null   object \n",
            " 8   recorded        4935 non-null   object \n",
            " 9   lat             4935 non-null   object \n",
            " 10  long            4935 non-null   float64\n",
            "dtypes: float64(2), object(9)\n",
            "memory usage: 424.2+ KB\n",
            "None\n",
            "<class 'pandas.core.frame.DataFrame'>\n",
            "RangeIndex: 4935 entries, 0 to 4934\n",
            "Data columns (total 11 columns):\n",
            " #   Column          Non-Null Count  Dtype         \n",
            "---  ------          --------------  -----         \n",
            " 0   date            4935 non-null   datetime64[ns]\n",
            " 1   city            4926 non-null   object        \n",
            " 2   state           4516 non-null   object        \n",
            " 3   country         4255 non-null   object        \n",
            " 4   type            4776 non-null   object        \n",
            " 5   seconds         4935 non-null   float64       \n",
            " 6   length_of_time  4792 non-null   object        \n",
            " 7   desc            4932 non-null   object        \n",
            " 8   recorded        4935 non-null   object        \n",
            " 9   lat             4935 non-null   object        \n",
            " 10  long            4935 non-null   float64       \n",
            "dtypes: datetime64[ns](1), float64(2), object(8)\n",
            "memory usage: 424.2+ KB\n",
            "None\n"
          ]
        }
      ]
    },
    {
      "cell_type": "code",
      "source": [
        "# Count the missing values in the length_of_time, state, and type columns, in that order\n",
        "print(ufo[['length_of_time','state', 'type']].isna().sum())\n",
        "\n",
        "# Drop rows where length_of_time, state, or type are missing\n",
        "ufo_no_missing = ufo.dropna(subset=['length_of_time','state', 'type'])\n",
        "\n",
        "# Print out the shape of the new dataset\n",
        "print(ufo_no_missing.shape)"
      ],
      "metadata": {
        "colab": {
          "base_uri": "https://localhost:8080/"
        },
        "id": "gYe28I1FHQzY",
        "outputId": "6d6bd750-83a7-469c-b9d1-6ff002925838"
      },
      "execution_count": 5,
      "outputs": [
        {
          "output_type": "stream",
          "name": "stdout",
          "text": [
            "length_of_time    143\n",
            "state             419\n",
            "type              159\n",
            "dtype: int64\n",
            "(4283, 11)\n"
          ]
        }
      ]
    },
    {
      "cell_type": "code",
      "source": [],
      "metadata": {
        "id": "YrFFoInbI6jD"
      },
      "execution_count": null,
      "outputs": []
    }
  ]
}